{
 "cells": [
  {
   "cell_type": "code",
   "execution_count": 4,
   "metadata": {},
   "outputs": [
    {
     "name": "stdout",
     "output_type": "stream",
     "text": [
      "The autoreload extension is already loaded. To reload it, use:\n",
      "  %reload_ext autoreload\n"
     ]
    }
   ],
   "source": [
    "import os\n",
    "from pathlib import Path\n",
    "\n",
    "from nltk.probability import FreqDist\n",
    "\n",
    "from documents import Corpus\n",
    "%load_ext autoreload\n",
    "%autoreload 2"
   ]
  },
  {
   "cell_type": "code",
   "execution_count": 5,
   "metadata": {},
   "outputs": [],
   "source": [
    "# Instantiate a corpus object which reads in all .txt files in a directory\n",
    "path_to_writing_folder = \"/Users/mbarry/Documents/03_hobbies/writing/prose/essays\"\n",
    "corups = Corpus(path_to_writing_folder)"
   ]
  },
  {
   "cell_type": "code",
   "execution_count": 5,
   "metadata": {},
   "outputs": [
    {
     "data": {
      "text/plain": [
       "44"
      ]
     },
     "execution_count": 5,
     "metadata": {},
     "output_type": "execute_result"
    }
   ],
   "source": [
    "num_files"
   ]
  },
  {
   "cell_type": "code",
   "execution_count": 6,
   "metadata": {},
   "outputs": [],
   "source": [
    "tokenizer = RegexpTokenizer(r'\\w+')\n",
    "tokenized_words = tokenizer.tokenize(text_content)\n",
    "tokenized_words = [word.lower() for word in tokenized_words]"
   ]
  },
  {
   "cell_type": "code",
   "execution_count": 7,
   "metadata": {},
   "outputs": [
    {
     "data": {
      "text/plain": [
       "[('i', 2033),\n",
       " ('to', 839),\n",
       " ('the', 659),\n",
       " ('a', 568),\n",
       " ('that', 474),\n",
       " ('of', 424),\n",
       " ('my', 401),\n",
       " ('it', 366),\n",
       " ('was', 352),\n",
       " ('and', 347)]"
      ]
     },
     "execution_count": 7,
     "metadata": {},
     "output_type": "execute_result"
    }
   ],
   "source": [
    "all_words = FreqDist(word for word in tokenized_words)\n",
    "all_words.most_common(10)"
   ]
  },
  {
   "cell_type": "code",
   "execution_count": 10,
   "metadata": {},
   "outputs": [],
   "source": [
    "# View most common words without stop words\n",
    "words_minus_stop = FreqDist([word for word in tokenized_words if word not in stopwords.words(\"English\")])"
   ]
  },
  {
   "cell_type": "code",
   "execution_count": 11,
   "metadata": {},
   "outputs": [
    {
     "data": {
      "text/plain": [
       "[('feel', 175),\n",
       " ('like', 147),\n",
       " ('able', 103),\n",
       " ('really', 96),\n",
       " ('good', 91),\n",
       " ('would', 90),\n",
       " ('life', 79),\n",
       " ('think', 77),\n",
       " ('way', 75),\n",
       " ('get', 71)]"
      ]
     },
     "execution_count": 11,
     "metadata": {},
     "output_type": "execute_result"
    }
   ],
   "source": [
    "words_minus_stop.most_common(10)"
   ]
  },
  {
   "cell_type": "code",
   "execution_count": null,
   "metadata": {},
   "outputs": [],
   "source": []
  }
 ],
 "metadata": {
  "kernelspec": {
   "display_name": "writing_analysis",
   "language": "python",
   "name": "python3"
  },
  "language_info": {
   "codemirror_mode": {
    "name": "ipython",
    "version": 3
   },
   "file_extension": ".py",
   "mimetype": "text/x-python",
   "name": "python",
   "nbconvert_exporter": "python",
   "pygments_lexer": "ipython3",
   "version": "3.10.9"
  },
  "orig_nbformat": 4,
  "vscode": {
   "interpreter": {
    "hash": "a9f53b95f40f98f3cd73e802fe71082108aee5da25343ee14d3e5f570cfe7d3e"
   }
  }
 },
 "nbformat": 4,
 "nbformat_minor": 2
}

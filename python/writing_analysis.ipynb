{
 "cells": [
  {
   "cell_type": "code",
   "execution_count": 1,
   "metadata": {},
   "outputs": [],
   "source": [
    "import os\n",
    "from pathlib import Path\n",
    "\n",
    "import matplotlib.pyplot as plt\n",
    "from nltk.probability import FreqDist\n",
    "import seaborn as sns\n",
    "\n",
    "from documents import Document, Corpus, Sentence\n",
    "%load_ext autoreload\n",
    "%autoreload 2"
   ]
  },
  {
   "cell_type": "code",
   "execution_count": 2,
   "metadata": {},
   "outputs": [
    {
     "name": "stdout",
     "output_type": "stream",
     "text": [
      "There are 55 documents in the corpus\n",
      "There are 27023 words in the corpus\n"
     ]
    }
   ],
   "source": [
    "# Instantiate a corpus object which reads in all .txt files in a directory\n",
    "path_to_writing_folder = \"/Users/mbarry/Documents/03_hobbies/writing/prose/essays\"\n",
    "corpus = Corpus(path_to_writing_folder)"
   ]
  },
  {
   "cell_type": "code",
   "execution_count": 3,
   "metadata": {},
   "outputs": [
    {
     "name": "stdout",
     "output_type": "stream",
     "text": [
      "There are 55 documents in the corpus\n"
     ]
    }
   ],
   "source": [
    "print(f\"There are {corpus.document_count} documents in the corpus\")"
   ]
  },
  {
   "cell_type": "markdown",
   "metadata": {},
   "source": [
    "# Tokenizing the corpus and counting words"
   ]
  },
  {
   "cell_type": "code",
   "execution_count": 4,
   "metadata": {},
   "outputs": [
    {
     "data": {
      "text/plain": [
       "[('i', 2375),\n",
       " ('to', 969),\n",
       " ('the', 815),\n",
       " ('a', 646),\n",
       " ('that', 566),\n",
       " ('of', 487),\n",
       " ('my', 470),\n",
       " ('was', 449),\n",
       " ('it', 412),\n",
       " ('and', 410)]"
      ]
     },
     "execution_count": 4,
     "metadata": {},
     "output_type": "execute_result"
    }
   ],
   "source": [
    "corpus.tokenize_corpus()\n",
    "\n",
    "all_words = FreqDist(corpus.document_tokens)\n",
    "all_words.most_common(10)"
   ]
  },
  {
   "cell_type": "code",
   "execution_count": 5,
   "metadata": {},
   "outputs": [
    {
     "data": {
      "text/plain": [
       "[('feel', 182),\n",
       " ('like', 160),\n",
       " ('would', 138),\n",
       " ('able', 114),\n",
       " ('good', 108),\n",
       " ('life', 95),\n",
       " ('really', 95),\n",
       " ('think', 83),\n",
       " ('way', 82),\n",
       " ('father', 81)]"
      ]
     },
     "execution_count": 5,
     "metadata": {},
     "output_type": "execute_result"
    }
   ],
   "source": [
    "# View most common words without stop words\n",
    "corpus.tokenize_corpus(remove_stop_words=True)\n",
    "all_words = FreqDist(corpus.document_tokens)\n",
    "all_words.most_common(10)"
   ]
  },
  {
   "cell_type": "code",
   "execution_count": 6,
   "metadata": {},
   "outputs": [],
   "source": [
    "document_lengths = [len(doc) for doc in corpus.documents.values()]\n"
   ]
  },
  {
   "cell_type": "code",
   "execution_count": 7,
   "metadata": {},
   "outputs": [
    {
     "data": {
      "text/plain": [
       "(array([40.,  7.,  7.,  0.,  0.,  0.,  0.,  0.,  0.,  1.]),\n",
       " array([    0. ,  2586.9,  5173.8,  7760.7, 10347.6, 12934.5, 15521.4,\n",
       "        18108.3, 20695.2, 23282.1, 25869. ]),\n",
       " <BarContainer object of 10 artists>)"
      ]
     },
     "execution_count": 7,
     "metadata": {},
     "output_type": "execute_result"
    },
    {
     "data": {
      "image/png": "[encoded data removed]",
      "text/plain": [
       "<Figure size 640x480 with 1 Axes>"
      ]
     },
     "metadata": {},
     "output_type": "display_data"
    }
   ],
   "source": [
    "fig, ax = plt.subplots()\n",
    "ax.hist(document_lengths)"
   ]
  },
  {
   "attachments": {},
   "cell_type": "markdown",
   "metadata": {},
   "source": [
    "# Sentences "
   ]
  },
  {
   "cell_type": "code",
   "execution_count": 35,
   "metadata": {},
   "outputs": [],
   "source": [
    "example_sentence = \"This is an example sentence, with a comma.\"\n",
    "\n",
    "sentence = Sentence(example_sentence)"
   ]
  },
  {
   "cell_type": "code",
   "execution_count": 36,
   "metadata": {},
   "outputs": [
    {
     "data": {
      "text/plain": [
       "['This', 'is', 'an', 'example', 'sentence', 'with', 'a', 'comma']"
      ]
     },
     "execution_count": 36,
     "metadata": {},
     "output_type": "execute_result"
    }
   ],
   "source": [
    "# The sentence class creates a list of tokens\n",
    "sentence.word_tokens"
   ]
  },
  {
   "cell_type": "code",
   "execution_count": 37,
   "metadata": {},
   "outputs": [
    {
     "data": {
      "text/plain": [
       "[',', '.']"
      ]
     },
     "execution_count": 37,
     "metadata": {},
     "output_type": "execute_result"
    }
   ],
   "source": [
    "# All punctuation are stored in the punctuation mark list\n",
    "sentence.punctuation_marks"
   ]
  },
  {
   "cell_type": "code",
   "execution_count": 38,
   "metadata": {},
   "outputs": [
    {
     "data": {
      "text/plain": [
       "'declarative'"
      ]
     },
     "execution_count": 38,
     "metadata": {},
     "output_type": "execute_result"
    }
   ],
   "source": [
    "# Type of sentence is determined by the last punctuation mark\n",
    "sentence.type_of_sentence"
   ]
  },
  {
   "attachments": {},
   "cell_type": "markdown",
   "metadata": {},
   "source": [
    "## Sentence Sentiment\n"
   ]
  },
  {
   "cell_type": "code",
   "execution_count": 40,
   "metadata": {},
   "outputs": [
    {
     "data": {
      "text/plain": [
       "0.0772"
      ]
     },
     "execution_count": 40,
     "metadata": {},
     "output_type": "execute_result"
    }
   ],
   "source": [
    "# NLTK Vader sentence score between -1 (negative) and +1 (positive)\n",
    "sentence.sentiment_score"
   ]
  },
  {
   "cell_type": "code",
   "execution_count": 44,
   "metadata": {},
   "outputs": [
    {
     "name": "stdout",
     "output_type": "stream",
     "text": [
      "The sentiment of the happy sentence is: 0.6468\n"
     ]
    }
   ],
   "source": [
    "happy_string = \"I am so happy!\"\n",
    "happy_sentence = Sentence(happy_string)\n",
    "print(f\"The sentiment of the happy sentence is: {happy_sentence.sentiment_score}\")\n"
   ]
  },
  {
   "cell_type": "code",
   "execution_count": 45,
   "metadata": {},
   "outputs": [
    {
     "name": "stdout",
     "output_type": "stream",
     "text": [
      "The sentiment of the sad sentence is: -0.5697\n"
     ]
    }
   ],
   "source": [
    "sad_string = \"I am so sad!\"\n",
    "sad_sentence = Sentence(sad_string)\n",
    "print(f\"The sentiment of the sad sentence is: {sad_sentence.sentiment_score}\")"
   ]
  },
  {
   "cell_type": "markdown",
   "metadata": {},
   "source": [
    "# Document Class"
   ]
  },
  {
   "cell_type": "code",
   "execution_count": 85,
   "metadata": {},
   "outputs": [],
   "source": [
    "path_to_journal = \"../writing/sample_journal.txt\"\n",
    "document = Document(path_to_journal)"
   ]
  },
  {
   "attachments": {},
   "cell_type": "markdown",
   "metadata": {},
   "source": [
    "The document class reads in the document in it's entirety and stores it in the document_string attribute."
   ]
  },
  {
   "cell_type": "code",
   "execution_count": 86,
   "metadata": {},
   "outputs": [
    {
     "data": {
      "text/plain": [
       "\"# March 5th, 2023  I am excited about the Sentence class I coded today.  It seems like it could be a useful tool to help writers explore granular aspects of their writing. It is fun making choices about what parts of a sentence are important, and what attributes a Sentence class should have.  I am a bit worried that I am overengineering this project.  Even if it is, it is good practice in organization.  It is interesting to think about natural language components as Python objects.  # March 8th, 2023  I am excited about having a set of classes that inherit the properties of the Document class.  I will have a journal class which has time-based sentiment analysis.  I will have an essay class which will have a property of a document length goal, as well as a method to identify repeated phrases and ideas.  I will have a poem class which describes number of lines, and perhaps common phonemes.  I wonder if I am actually going to finish this project, or at least get an MVP completed.  I have a lot of ideas, and some coding done, but I question the actual utility of the project.  Will it be useful to anyone other than me?  Will it be useful to me?  # March 18th, 2023, PM  I've taken a bit of time away from this project.  I went to Memphis for a long weekend.  The Civil Rights Museum, Sun Studio, and Stax were incredible.  The soul food at 4 Way and Alcenia's were some of the best meals I've had.  I hope to regain some momentum on this project in the coming weeks.  I'm excited about where the Journal class could be heading.  # March 19th, 2023, AM  I am adding sentiment analysis to the Sentence class.  While I am doing that, I am becoming more familiar with NLTK's functions and classes.  I am worried I might be replicating their work, which would be bad.  But, I am pushing ahead despite my reservations.  I think I will learn something no matter what by working on this project.  Hopefully, it will provide an accurate snapshot of my coding skills.  \""
      ]
     },
     "execution_count": 86,
     "metadata": {},
     "output_type": "execute_result"
    }
   ],
   "source": [
    "document.document_string"
   ]
  },
  {
   "attachments": {},
   "cell_type": "markdown",
   "metadata": {},
   "source": [
    "On instantiation, the document object creates sentence objects which allow for easy exploration of the word attributes."
   ]
  },
  {
   "cell_type": "code",
   "execution_count": 87,
   "metadata": {},
   "outputs": [
    {
     "data": {
      "text/plain": [
       "'# March 5th, 2023  I am excited about the Sentence class I coded today.'"
      ]
     },
     "execution_count": 87,
     "metadata": {},
     "output_type": "execute_result"
    }
   ],
   "source": [
    "document.sentences[0].sentence_string"
   ]
  },
  {
   "attachments": {},
   "cell_type": "markdown",
   "metadata": {},
   "source": [
    "## Document Length "
   ]
  },
  {
   "cell_type": "code",
   "execution_count": 88,
   "metadata": {},
   "outputs": [
    {
     "name": "stdout",
     "output_type": "stream",
     "text": [
      "There are 361 words in the document\n"
     ]
    }
   ],
   "source": [
    "print(f\"There are {document.word_count} words in the document\")\n"
   ]
  },
  {
   "cell_type": "markdown",
   "metadata": {},
   "source": [
    "# Cumulative Count"
   ]
  },
  {
   "attachments": {},
   "cell_type": "markdown",
   "metadata": {},
   "source": [
    "The cumulative_word_count() function returns a list which counts the number of new words added as the document grows.  \n",
    "\n",
    "The larger the document, the smaller the slope will be, since it is a higher probabilty that each successive word added will have been already used in the document.\n",
    "\n",
    "The changes in the slope of the graph may give a sense of where new ideas are introduced."
   ]
  },
  {
   "cell_type": "code",
   "execution_count": 89,
   "metadata": {},
   "outputs": [],
   "source": [
    "cumulative_word_count = document.cumulative_word_count()"
   ]
  },
  {
   "cell_type": "code",
   "execution_count": 90,
   "metadata": {},
   "outputs": [
    {
     "data": {
      "text/plain": [
       "Text(0, 0.5, 'Count of New Words')"
      ]
     },
     "execution_count": 90,
     "metadata": {},
     "output_type": "execute_result"
    },
    {
     "data": {
      "image/png": "[encoded data removed]",
      "text/plain": [
       "<Figure size 640x480 with 1 Axes>"
      ]
     },
     "metadata": {},
     "output_type": "display_data"
    }
   ],
   "source": [
    "fig, ax = plt.subplots()\n",
    "\n",
    "ax.plot(\n",
    "    range(len(cumulative_word_count)),\n",
    "    cumulative_word_count\n",
    ")\n",
    "\n",
    "ax.set_title(\"Cumulative New Word Count\")\n",
    "ax.set_xlabel(\"Word Index\")\n",
    "ax.set_ylabel(\"Count of New Words\")"
   ]
  },
  {
   "attachments": {},
   "cell_type": "markdown",
   "metadata": {},
   "source": [
    "## Sentiment Over Time"
   ]
  },
  {
   "cell_type": "code",
   "execution_count": 92,
   "metadata": {},
   "outputs": [],
   "source": [
    "cumulative_sentiment = document.cumulative_sentiment()"
   ]
  },
  {
   "cell_type": "code",
   "execution_count": 93,
   "metadata": {},
   "outputs": [
    {
     "data": {
      "text/plain": [
       "Text(0, 0.5, 'VADER Sentiment Score')"
      ]
     },
     "execution_count": 93,
     "metadata": {},
     "output_type": "execute_result"
    },
    {
     "data": {
      "image/png": "[encoded data removed]",
      "text/plain": [
       "<Figure size 640x480 with 1 Axes>"
      ]
     },
     "metadata": {},
     "output_type": "display_data"
    }
   ],
   "source": [
    "fig, ax = plt.subplots()\n",
    "\n",
    "ax.plot(range(document.sentence_count), cumulative_sentiment)\n",
    "ax.set_title(\"Sentiment of Sample Document Over Time\")\n",
    "ax.set_xlabel(\"Sentence Number\")\n",
    "ax.set_ylabel(\"VADER Sentiment Score\")"
   ]
  },
  {
   "cell_type": "code",
   "execution_count": null,
   "metadata": {},
   "outputs": [],
   "source": []
  }
 ],
 "metadata": {
  "kernelspec": {
   "display_name": "writing_analysis",
   "language": "python",
   "name": "python3"
  },
  "language_info": {
   "codemirror_mode": {
    "name": "ipython",
    "version": 3
   },
   "file_extension": ".py",
   "mimetype": "text/x-python",
   "name": "python",
   "nbconvert_exporter": "python",
   "pygments_lexer": "ipython3",
   "version": "3.10.9"
  },
  "orig_nbformat": 4,
  "vscode": {
   "interpreter": {
    "hash": "a9f53b95f40f98f3cd73e802fe71082108aee5da25343ee14d3e5f570cfe7d3e"
   }
  }
 },
 "nbformat": 4,
 "nbformat_minor": 2
}
